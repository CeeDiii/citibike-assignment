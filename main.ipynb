{
 "cells": [
  {
   "cell_type": "markdown",
   "metadata": {},
   "source": [
    "# Assignment\n",
    "You were asked to analyse the last month of bike-sharing data in NYC (data source: https://citibikenyc.com/system-data ), and your manager thinks we could add insurance coverage for **rides that last more than 30 minutes**.\n",
    "\n",
    "1. How many trips would be covered?\n",
    "\n",
    "2. If your manager thinks we could charge 0.2 USD for each ride that takes longer than 30 minutes, how much revenue could we expect?\n",
    "\n",
    "3. Your manager wants to understand the travel distance in distance buckets (0-1,2-4,4-9,10+). Please make a diagram.\n",
    " \n",
    "Please present your analysis in a Jupyter notebook."
   ]
  },
  {
   "cell_type": "code",
   "execution_count": 21,
   "metadata": {},
   "outputs": [],
   "source": [
    "from pyspark.sql import SparkSession, DataFrame\n",
    "import pyspark.sql.functions as F\n",
    "from pyspark.sql.types import FloatType"
   ]
  },
  {
   "cell_type": "code",
   "execution_count": 22,
   "metadata": {},
   "outputs": [],
   "source": [
    "from ingest import download_zip_file, extract_zip_archive"
   ]
  },
  {
   "cell_type": "markdown",
   "metadata": {},
   "source": [
    "# Ingestion\n",
    "Ingest the February 2024 data from https://citibikenyc.com/system-data and extract the zip archive. The resulting data is stored in the `/raw` folder."
   ]
  },
  {
   "cell_type": "code",
   "execution_count": 23,
   "metadata": {},
   "outputs": [],
   "source": [
    "file_name = \"202402-citibike-tripdata.csv\"\n",
    "download_base_url = \"https://s3.amazonaws.com/tripdata\"\n",
    "\n",
    "zip_archive_path = download_zip_file(file_name, download_base_url)"
   ]
  },
  {
   "cell_type": "code",
   "execution_count": 24,
   "metadata": {},
   "outputs": [],
   "source": [
    "extract_zip_archive(zip_archive_path)"
   ]
  },
  {
   "cell_type": "code",
   "execution_count": 25,
   "metadata": {},
   "outputs": [],
   "source": [
    "spark: SparkSession = SparkSession \\\n",
    "        .builder \\\n",
    "        .master(\"local[*]\") \\\n",
    "        .appName(\"Python Spark SQL basic example\") \\\n",
    "        .getOrCreate()"
   ]
  },
  {
   "cell_type": "code",
   "execution_count": 26,
   "metadata": {},
   "outputs": [],
   "source": [
    "df: DataFrame = spark.read.csv(\"raw\", header=True)"
   ]
  },
  {
   "cell_type": "markdown",
   "metadata": {},
   "source": [
    "## Explore the data\n",
    "Check the schema, sample values and display descriptive stats"
   ]
  },
  {
   "cell_type": "code",
   "execution_count": 27,
   "metadata": {},
   "outputs": [
    {
     "name": "stdout",
     "output_type": "stream",
     "text": [
      "root\n",
      " |-- ride_id: string (nullable = true)\n",
      " |-- rideable_type: string (nullable = true)\n",
      " |-- started_at: string (nullable = true)\n",
      " |-- ended_at: string (nullable = true)\n",
      " |-- start_station_name: string (nullable = true)\n",
      " |-- start_station_id: string (nullable = true)\n",
      " |-- end_station_name: string (nullable = true)\n",
      " |-- end_station_id: string (nullable = true)\n",
      " |-- start_lat: string (nullable = true)\n",
      " |-- start_lng: string (nullable = true)\n",
      " |-- end_lat: string (nullable = true)\n",
      " |-- end_lng: string (nullable = true)\n",
      " |-- member_casual: string (nullable = true)\n",
      "\n"
     ]
    }
   ],
   "source": [
    "df.printSchema()"
   ]
  },
  {
   "cell_type": "code",
   "execution_count": 28,
   "metadata": {},
   "outputs": [
    {
     "name": "stdout",
     "output_type": "stream",
     "text": [
      "+----------------+-------------+-------------------+-------------------+--------------------+----------------+--------------------+--------------+-----------------+-----------------+-----------------+------------------+-------------+\n",
      "|         ride_id|rideable_type|         started_at|           ended_at|  start_station_name|start_station_id|    end_station_name|end_station_id|        start_lat|        start_lng|          end_lat|           end_lng|member_casual|\n",
      "+----------------+-------------+-------------------+-------------------+--------------------+----------------+--------------------+--------------+-----------------+-----------------+-----------------+------------------+-------------+\n",
      "|3AE36736C8C79EBC|electric_bike|2024-02-01 09:00:46|2024-02-01 09:21:20|Court St & Nelson St|         4077.07|Lafayette St & Gr...|       5422.09|      40.67626214|    -73.998769522|         40.72028|         -73.99879|       member|\n",
      "|1F1466ACBCA41D86| classic_bike|2024-02-07 11:09:38|2024-02-07 11:13:29|    12 Ave & W 40 St|         6765.01|Hudson Blvd W & W...|       6611.07|      40.76087502|     -74.00277668|40.75676475086503|-73.99971440439913|       member|\n",
      "|728D4D80A3891880| classic_bike|2024-02-19 13:32:06|2024-02-19 13:37:41|Central Park West...|         7141.07|Riverside Dr & W ...|       7288.04|40.77579376683666|-73.9762057363987|40.78057799010334|-73.98562431335449|       member|\n",
      "|05DCCF685C8C62F7|electric_bike|2024-02-23 23:58:22|2024-02-24 00:24:27|    12 Ave & W 40 St|         6765.01|Mercer St & Sprin...|       5532.01|     40.760942817|     -74.00293231|      40.72362738|      -73.99949601|       member|\n",
      "|0B8681DE21E08B3A|electric_bike|2024-02-20 00:35:49|2024-02-20 00:44:36|Schermerhorn St &...|         4479.10|Nevins St & Scher...|       4437.09|     40.688645363|     -73.98538208|40.68737247650719|-73.98176059126854|       member|\n",
      "|9594259B42E9F49E|electric_bike|2024-02-14 17:15:59|2024-02-14 17:31:20|Central Park West...|         7141.07|E 43 St & Madison...|       6551.11|      40.77589035|    -73.975946069|40.75354681867074|-73.97896572947502|       casual|\n",
      "|A17201C37AE90435|electric_bike|2024-02-04 20:24:48|2024-02-04 20:30:04|  E 84 St & Park Ave|         7243.04|     E 75 St & 3 Ave|       6991.12|     40.778565764|    -73.958026409|      40.77112927|      -73.95772297|       member|\n",
      "|9E2D11FD57B94A70|electric_bike|2024-02-23 14:08:47|2024-02-23 14:14:33| 31 St & Newtown Ave|         6923.20|Steinway St & Bro...|       6711.13|     40.767477274|    -73.920928001|40.75905795418586|-73.91897544264793|       casual|\n",
      "|D6FEDDFCC26F63FE|electric_bike|2024-02-08 11:26:25|2024-02-08 11:38:20|Metropolitan Ave ...|         5308.04| St Marks Pl & 2 Ave|       5669.10|     40.715358257|    -73.960165858|       40.7284186|      -73.98713956|       member|\n",
      "|FF3CA43DAB51D18E|electric_bike|2024-02-29 08:47:45|2024-02-29 08:57:56| E 16 St & Irving Pl|         5938.11|     W 29 St & 9 Ave|       6416.06|     40.735356808|    -73.988173604|       40.7500727|      -73.99839279|       member|\n",
      "|B355C34CFFB16728|electric_bike|2024-02-18 23:14:35|2024-02-18 23:20:29| E 16 St & Irving Pl|         5938.11|Lexington Ave & E...|       6313.10|     40.735465646|    -73.987809777| 40.7475739589548| -73.9788007736206|       member|\n",
      "|9BC409EF1F93B0EF|electric_bike|2024-02-05 12:59:27|2024-02-05 13:12:49|    12 Ave & W 40 St|         6765.01|     W 13 St & 5 Ave|       5947.04|      40.76087502|     -74.00277668|        40.735445|         -73.99431|       member|\n",
      "|D905F014A2DBFA81|electric_bike|2024-02-05 15:23:24|2024-02-05 15:29:18|     1 Ave & E 18 St|         5854.09|LaGuardia Pl & W ...|       5721.14|     40.734237075|    -73.980308294|      40.72917025|      -73.99810231|       member|\n",
      "|8C130E5FF23958A5|electric_bike|2024-02-01 12:27:31|2024-02-01 12:36:53|    12 Ave & W 40 St|         6765.01|  Broadway & W 25 St|       6173.08|     40.760896087|    -74.002866745|40.74286877312112|-73.98918628692627|       member|\n",
      "|27D6D379C9EC4797| classic_bike|2024-02-28 21:42:02|2024-02-28 21:45:39|Metropolitan Ave ...|         5308.04|S 4 St & Roebling St|       5195.06|      40.71534825|     -73.96024116|        40.710709|        -73.959724|       member|\n",
      "|207FBC0240E5DD46|electric_bike|2024-02-06 07:14:50|2024-02-06 07:17:45|     1 Ave & E 18 St|         5854.09|     1 Ave & E 30 St|       6079.03|     40.734058022|    -73.980443478|      40.74144387|      -73.97536082|       member|\n",
      "|668C2E30DD40D984| classic_bike|2024-02-10 18:45:06|2024-02-10 18:54:52|Willow Ave & E 13...|         7626.02|E 135 St & St Ann...|       7687.05|        40.800933|       -73.913863|        40.805089|        -73.918889|       member|\n",
      "|4F871CBC4C448A20| classic_bike|2024-02-23 13:31:55|2024-02-23 13:53:04|    12 Ave & W 40 St|         6765.01|     E 12 St & 3 Ave|       5788.12|      40.76087502|     -74.00277668|      40.73223272|      -73.98889957|       member|\n",
      "|30FEFE2757FB598D|electric_bike|2024-02-25 14:31:25|2024-02-25 14:34:08| Mott St & Prince St|         5561.04|Lafayette St & Gr...|       5422.09|     40.723265052|    -73.994868755|         40.72028|         -73.99879|       member|\n",
      "|97AA45ACE0446F81|electric_bike|2024-02-01 17:03:35|2024-02-01 17:06:50|Cadman Plaza E & ...|         4821.06|Fulton St & Adams St|       4637.06|     40.699889779|    -73.989681959|40.69241829257847|-73.98949474096298|       member|\n",
      "+----------------+-------------+-------------------+-------------------+--------------------+----------------+--------------------+--------------+-----------------+-----------------+-----------------+------------------+-------------+\n",
      "only showing top 20 rows\n",
      "\n"
     ]
    }
   ],
   "source": [
    "df.sample(fraction=0.1).show()"
   ]
  },
  {
   "cell_type": "code",
   "execution_count": 29,
   "metadata": {},
   "outputs": [
    {
     "name": "stderr",
     "output_type": "stream",
     "text": [
      "24/03/29 22:24:15 WARN CSVHeaderChecker: Number of column in CSV header is not equal to number of fields in the schema:\n",
      " Header length: 1, schema size: 13\n",
      "CSV file: file:///Users/cedricaltermatt/devm/personal/citibikency/raw/202402-citibike-tripdata.csv.zip\n",
      "[Stage 10:=================================================>      (14 + 2) / 16]\r"
     ]
    },
    {
     "name": "stdout",
     "output_type": "stream",
     "text": [
      "+-------+-----------------+--------------------+------------------+--------------------+--------------------+--------------------+--------------------+--------------------+--------------------+--------------------+--------------------+--------------------+--------------------+\n",
      "|summary|          ride_id|       rideable_type|        started_at|            ended_at|  start_station_name|    start_station_id|    end_station_name|      end_station_id|           start_lat|           start_lng|             end_lat|             end_lng|       member_casual|\n",
      "+-------+-----------------+--------------------+------------------+--------------------+--------------------+--------------------+--------------------+--------------------+--------------------+--------------------+--------------------+--------------------+--------------------+\n",
      "|  count|          2909911|             2408502|           2250089|             2199860|             2182108|             2176971|             2172476|             2171910|             2176515|             2176455|             2175840|             2175830|             2176428|\n",
      "|   mean|         Infinity|   6.755102040816326| 7.708333333333333|   4.454545454545454|  17.285714285714285|   5972.821183777471|                 3.0|   5969.489433276622|   40.73859288873108|  -73.97247543376376|   40.73847369318617|  -73.97263405198139|                null|\n",
      "| stddev|              NaN|   12.85674058948872|12.340830575402135|  3.0777796010642597|   33.10948648405915|  1110.8394855451727|                null|   1107.409348017392| 0.03962734381832168|0.027881646171281065|0.039514631067737054| 0.02787405839648329|                null|\n",
      "|    min|                \u0000|\u0000\u000116���LsIJ�lصQS�...|                 \u0000|                   \u0000|                   \u0000|\u0000\u0019����sj��%��b�$-...|     \u0002\u001e�_&��B��+٫x\\f|\u0000KQ�#��\\b��u-\"��\\...|            \u0000:\u001bo�\"\u0012�|\\a/kcń�!Q</by\u0017���...|\\f��\u000e8��\\b�l��}��...|\u0005\u000f�����Ï�����}�\u000e���P|?Y�0����x\u0004�MN�:SJ...|\n",
      "|    max|􏯂�\u0006��\"]�\u0014��^ב�9e|􎘌t����\u0015��\\bxFB��...|                􊓃|񚽁�TUY��i��^C�rg\u0013...|􁠲�˦��?�\u001c�I�\u0013z��X...|󬬟��\u00191\u0014I��m�6����...|������r�1Y(�2DX�B...|�����)a4���\u000f)N���...|����\u000f\u0015/)�Ӵ;������...|����7�.��\u001d$���%�...|���������ϟ���\u0018�4$...| �򔓟\u0011\"S�\u0001�e��Y����\\v|��L�P.���E�i�%f��...|\n",
      "+-------+-----------------+--------------------+------------------+--------------------+--------------------+--------------------+--------------------+--------------------+--------------------+--------------------+--------------------+--------------------+--------------------+\n",
      "\n"
     ]
    },
    {
     "name": "stderr",
     "output_type": "stream",
     "text": [
      "                                                                                \r"
     ]
    }
   ],
   "source": [
    "df.describe().show()"
   ]
  },
  {
   "cell_type": "markdown",
   "metadata": {},
   "source": [
    "## Prepare data for analysis"
   ]
  },
  {
   "cell_type": "code",
   "execution_count": 30,
   "metadata": {},
   "outputs": [],
   "source": [
    "\n",
    "staged_df = (\n",
    "    df.withColumn(\"start_station_id\", df.start_station_id.cast(FloatType()))\n",
    "    .withColumn(\"end_station_id\", df.end_station_id.cast(FloatType()))\n",
    "    .withColumn(\"started_at\", F.to_timestamp(df.started_at, \"yyyy-MM-dd HH:mm:ss\"))\n",
    "    .withColumn(\"ended_at\", F.to_timestamp(df.ended_at, \"yyyy-MM-dd HH:mm:ss\"))\n",
    "    .withColumn(\"start_lat\", df.start_lat.cast(FloatType()))\n",
    "    .withColumn(\"start_lng\", df.start_lng.cast(FloatType()))\n",
    "    .withColumn(\"end_lat\", df.end_lat.cast(FloatType()))\n",
    "    .withColumn(\"end_lng\", df.end_lng.cast(FloatType()))\n",
    ")"
   ]
  },
  {
   "cell_type": "code",
   "execution_count": 31,
   "metadata": {},
   "outputs": [
    {
     "name": "stdout",
     "output_type": "stream",
     "text": [
      "+----------------+-------------+-------------------+-------------------+--------------------+----------------+--------------------+--------------+---------+----------+---------+----------+-------------+\n",
      "|         ride_id|rideable_type|         started_at|           ended_at|  start_station_name|start_station_id|    end_station_name|end_station_id|start_lat| start_lng|  end_lat|   end_lng|member_casual|\n",
      "+----------------+-------------+-------------------+-------------------+--------------------+----------------+--------------------+--------------+---------+----------+---------+----------+-------------+\n",
      "|305C7BE0B5B34D09|electric_bike|2024-02-23 17:02:15|2024-02-23 17:13:21| Murray St & West St|         5329.08|Fulton St & Adams St|       4637.06| 40.71538| -74.01263|40.692417|-73.989494|       member|\n",
      "|009A4C1BA2E187DB|electric_bike|2024-02-09 08:49:28|2024-02-09 08:53:59|Morris Ave & E 16...|         8036.05|Jerome Ave & Ande...|       8061.01|40.827152| -73.91774|40.830177| -73.92875|       member|\n",
      "|7263430CDB294956|electric_bike|2024-02-17 10:51:27|2024-02-17 10:55:50|Morris Ave & E 16...|         8036.05|Jerome Ave & Ande...|       8061.01| 40.82712| -73.91779|40.830177| -73.92875|       member|\n",
      "|3AE36736C8C79EBC|electric_bike|2024-02-01 09:00:46|2024-02-01 09:21:20|Court St & Nelson St|         4077.07|Lafayette St & Gr...|       5422.09| 40.67626| -73.99877| 40.72028| -73.99879|       member|\n",
      "|15DC38D722001DDB|electric_bike|2024-02-23 09:02:12|2024-02-23 09:08:43|Court St & Nelson St|         4077.07|        3 St & 7 Ave|       3905.15|40.676434|-73.998764|40.670383| -73.97839|       member|\n",
      "|5DE0171D21A4E026|electric_bike|2024-02-29 20:53:40|2024-02-29 21:09:17|     1 Ave & E 18 St|         5854.09|Hudson Blvd W & W...|       6611.07| 40.73391| -73.98063|40.756763| -73.99972|       member|\n",
      "|1F1466ACBCA41D86| classic_bike|2024-02-07 11:09:38|2024-02-07 11:13:29|    12 Ave & W 40 St|         6765.01|Hudson Blvd W & W...|       6611.07|40.760876| -74.00278|40.756763| -73.99972|       member|\n",
      "|2DCE09BEFD86A058|electric_bike|2024-02-03 22:36:05|2024-02-03 22:45:08|Court St & Nelson St|         4077.07|Fulton St & Adams St|       4637.06| 40.67623|-73.998764|40.692417|-73.989494|       member|\n",
      "|8675F87E213CAB13|electric_bike|2024-02-03 18:07:24|2024-02-03 18:21:02|Schermerhorn St &...|          4479.1|        3 St & 7 Ave|       3905.15| 40.68886| -73.98518|40.670383| -73.97839|       member|\n",
      "|5AD859F1FA721A96| classic_bike|2024-02-19 00:10:33|2024-02-19 00:14:29| Murray St & West St|         5329.08|Church St & Worth St|       5359.13| 40.71503| -74.01246|40.716885|  -74.0065|       member|\n",
      "+----------------+-------------+-------------------+-------------------+--------------------+----------------+--------------------+--------------+---------+----------+---------+----------+-------------+\n",
      "only showing top 10 rows\n",
      "\n"
     ]
    }
   ],
   "source": [
    "staged_df.show(10)"
   ]
  },
  {
   "cell_type": "code",
   "execution_count": 32,
   "metadata": {},
   "outputs": [
    {
     "name": "stdout",
     "output_type": "stream",
     "text": [
      "root\n",
      " |-- ride_id: string (nullable = true)\n",
      " |-- rideable_type: string (nullable = true)\n",
      " |-- started_at: timestamp (nullable = true)\n",
      " |-- ended_at: timestamp (nullable = true)\n",
      " |-- start_station_name: string (nullable = true)\n",
      " |-- start_station_id: float (nullable = true)\n",
      " |-- end_station_name: string (nullable = true)\n",
      " |-- end_station_id: float (nullable = true)\n",
      " |-- start_lat: float (nullable = true)\n",
      " |-- start_lng: float (nullable = true)\n",
      " |-- end_lat: float (nullable = true)\n",
      " |-- end_lng: float (nullable = true)\n",
      " |-- member_casual: string (nullable = true)\n",
      "\n"
     ]
    }
   ],
   "source": [
    "staged_df.printSchema()"
   ]
  },
  {
   "cell_type": "markdown",
   "metadata": {},
   "source": [
    "# Solve assignment"
   ]
  },
  {
   "cell_type": "markdown",
   "metadata": {},
   "source": [
    "1. How many trips would be covered?"
   ]
  },
  {
   "cell_type": "code",
   "execution_count": null,
   "metadata": {},
   "outputs": [],
   "source": []
  },
  {
   "cell_type": "markdown",
   "metadata": {},
   "source": [
    "2. If your manager thinks we could charge 0.2 USD for each ride that takes longer than 30 minutes, how much revenue could we expect?"
   ]
  },
  {
   "cell_type": "code",
   "execution_count": null,
   "metadata": {},
   "outputs": [],
   "source": []
  },
  {
   "cell_type": "markdown",
   "metadata": {},
   "source": [
    "3. Your manager wants to understand the travel distance in distance buckets (0-1,2-4,4-9,10+). Please make a diagram."
   ]
  },
  {
   "cell_type": "code",
   "execution_count": null,
   "metadata": {},
   "outputs": [],
   "source": []
  }
 ],
 "metadata": {
  "kernelspec": {
   "display_name": ".venv",
   "language": "python",
   "name": "python3"
  },
  "language_info": {
   "codemirror_mode": {
    "name": "ipython",
    "version": 3
   },
   "file_extension": ".py",
   "mimetype": "text/x-python",
   "name": "python",
   "nbconvert_exporter": "python",
   "pygments_lexer": "ipython3",
   "version": "3.11.4"
  }
 },
 "nbformat": 4,
 "nbformat_minor": 2
}
