{
 "cells": [
  {
   "cell_type": "markdown",
   "metadata": {},
   "source": [
    "# Assignment\n",
    "You were asked to analyse the last month of bike-sharing data in NYC (data source: https://citibikenyc.com/system-data ), and your manager thinks we could add insurance coverage for **rides that last more than 30 minutes**.\n",
    "\n",
    "1. How many trips would be covered?\n",
    "\n",
    "2. If your manager thinks we could charge 0.2 USD for each ride that takes longer than 30 minutes, how much revenue could we expect?\n",
    "\n",
    "3. Your manager wants to understand the travel distance in distance buckets (0-1,2-4,4-9,10+). Please make a diagram.\n",
    " \n",
    "Please present your analysis in a Jupyter notebook."
   ]
  },
  {
   "cell_type": "code",
   "execution_count": null,
   "metadata": {},
   "outputs": [],
   "source": [
    "from pyspark.sql import SparkSession, DataFrame\n",
    "import pyspark.sql.functions as F\n",
    "from pyspark.sql.types import FloatType, LongType"
   ]
  },
  {
   "cell_type": "code",
   "execution_count": null,
   "metadata": {},
   "outputs": [],
   "source": [
    "from helpers import haversine, get_distance_bucket\n",
    "from ingest import download_zip_file, extract_zip_archive"
   ]
  },
  {
   "cell_type": "markdown",
   "metadata": {},
   "source": [
    "# Ingestion\n",
    "Ingest the February 2024 data from https://citibikenyc.com/system-data and extract the zip archive. The resulting data is stored in the `/raw` folder."
   ]
  },
  {
   "cell_type": "code",
   "execution_count": null,
   "metadata": {},
   "outputs": [],
   "source": [
    "file_name = \"202402-citibike-tripdata.csv\"\n",
    "download_base_url = \"https://s3.amazonaws.com/tripdata\"\n",
    "\n",
    "zip_archive_path = download_zip_file(file_name, download_base_url)"
   ]
  },
  {
   "cell_type": "code",
   "execution_count": null,
   "metadata": {},
   "outputs": [],
   "source": [
    "extract_zip_archive(zip_archive_path)"
   ]
  },
  {
   "cell_type": "code",
   "execution_count": null,
   "metadata": {},
   "outputs": [],
   "source": [
    "# create locally hosted Spark session\n",
    "spark: SparkSession = SparkSession \\\n",
    "        .builder \\\n",
    "        .master(\"local[*]\") \\\n",
    "        .appName(\"Citibike Assignment\") \\\n",
    "        .getOrCreate()"
   ]
  },
  {
   "cell_type": "code",
   "execution_count": null,
   "metadata": {},
   "outputs": [],
   "source": [
    "# read all csv files from \"/raw\" folder\n",
    "df: DataFrame = spark.read.csv(\"raw\", header=True, pathGlobFilter=\"*.csv\")"
   ]
  },
  {
   "cell_type": "markdown",
   "metadata": {},
   "source": [
    "## Explore the data\n",
    "Check the schema, sample values and display descriptive stats"
   ]
  },
  {
   "cell_type": "code",
   "execution_count": null,
   "metadata": {},
   "outputs": [],
   "source": [
    "df.printSchema()"
   ]
  },
  {
   "cell_type": "code",
   "execution_count": null,
   "metadata": {},
   "outputs": [],
   "source": [
    "df.sample(fraction=0.1).show()"
   ]
  },
  {
   "cell_type": "code",
   "execution_count": null,
   "metadata": {},
   "outputs": [],
   "source": [
    "df.describe().show()"
   ]
  },
  {
   "cell_type": "markdown",
   "metadata": {},
   "source": [
    "## Prepare data for analysis"
   ]
  },
  {
   "cell_type": "code",
   "execution_count": null,
   "metadata": {},
   "outputs": [],
   "source": [
    "# cast columns into correct data types\n",
    "staged_df = (\n",
    "    df.withColumn(\"start_station_id\", df.start_station_id.cast(FloatType()))\n",
    "    .withColumn(\"end_station_id\", df.end_station_id.cast(FloatType()))\n",
    "    .withColumn(\"started_at\", F.to_timestamp(df.started_at, \"yyyy-MM-dd HH:mm:ss\"))\n",
    "    .withColumn(\"ended_at\", F.to_timestamp(df.ended_at, \"yyyy-MM-dd HH:mm:ss\"))\n",
    "    .withColumn(\"start_lat\", df.start_lat.cast(FloatType()))\n",
    "    .withColumn(\"start_lng\", df.start_lng.cast(FloatType()))\n",
    "    .withColumn(\"end_lat\", df.end_lat.cast(FloatType()))\n",
    "    .withColumn(\"end_lng\", df.end_lng.cast(FloatType()))\n",
    ")"
   ]
  },
  {
   "cell_type": "code",
   "execution_count": null,
   "metadata": {},
   "outputs": [],
   "source": [
    "staged_df.show(10)"
   ]
  },
  {
   "cell_type": "code",
   "execution_count": null,
   "metadata": {},
   "outputs": [],
   "source": [
    "staged_df.printSchema()"
   ]
  },
  {
   "cell_type": "markdown",
   "metadata": {},
   "source": [
    "# Solve assignment"
   ]
  },
  {
   "cell_type": "code",
   "execution_count": null,
   "metadata": {},
   "outputs": [],
   "source": [
    "df_with_trip_duration = staged_df.withColumn(\n",
    "    \"trip_duration_in_minutes\",\n",
    "    (staged_df.ended_at.cast(LongType()) - staged_df.started_at.cast(LongType()))\n",
    "    / 60,  # convert to timestamp and calculate difference, convert to minutes\n",
    ")"
   ]
  },
  {
   "cell_type": "code",
   "execution_count": null,
   "metadata": {},
   "outputs": [],
   "source": [
    "# filter for trips that are longer than 30 minutes\n",
    "filtered_df = df_with_trip_duration.filter(df_with_trip_duration.trip_duration_in_minutes >= 30)"
   ]
  },
  {
   "cell_type": "code",
   "execution_count": null,
   "metadata": {},
   "outputs": [],
   "source": [
    "filtered_df.sample(0.1).show(10)"
   ]
  },
  {
   "cell_type": "markdown",
   "metadata": {},
   "source": [
    "1. How many trips would be covered?"
   ]
  },
  {
   "cell_type": "code",
   "execution_count": null,
   "metadata": {},
   "outputs": [],
   "source": [
    "count_covered_trips = filtered_df.count()\n",
    "print(f\"There are {count_covered_trips:,d} covered trips with a duration greater than or equal to 30 minutes.\")"
   ]
  },
  {
   "cell_type": "markdown",
   "metadata": {},
   "source": [
    "2. If your manager thinks we could charge 0.2 USD for each ride that takes longer than 30 minutes, how much revenue could we expect?"
   ]
  },
  {
   "cell_type": "code",
   "execution_count": null,
   "metadata": {},
   "outputs": [],
   "source": [
    "expected_revenue = count_covered_trips * 0.2\n",
    "print(f\"We can expect a revenue of USD {expected_revenue:,.2f}.\")"
   ]
  },
  {
   "cell_type": "markdown",
   "metadata": {},
   "source": [
    "3. Your manager wants to understand the travel distance in distance buckets (0-1,2-4,4-9,10+). Please make a diagram."
   ]
  },
  {
   "cell_type": "code",
   "execution_count": null,
   "metadata": {},
   "outputs": [],
   "source": [
    "# calculate haversine distance between coordinates to get travel distance\n",
    "haversine_udf = F.udf(haversine)\n",
    "df_with_distance = staged_df.withColumn(\n",
    "    \"distance_travelled\",\n",
    "    haversine_udf(\n",
    "        F.col(\"start_lng\"), F.col(\"start_lat\"), F.col(\"end_lng\"), F.col(\"end_lat\")\n",
    "    ),\n",
    ")"
   ]
  },
  {
   "cell_type": "code",
   "execution_count": null,
   "metadata": {},
   "outputs": [],
   "source": [
    "# create histogram manually with the given buckets from the assignment\n",
    "distance_bucket_udf = F.udf(get_distance_bucket)\n",
    "df_with_distance_buckets = df_with_distance.withColumn(\n",
    "    \"distance_bucket\",\n",
    "    distance_bucket_udf(F.col(\"distance_travelled\")),\n",
    ")"
   ]
  },
  {
   "cell_type": "code",
   "execution_count": null,
   "metadata": {},
   "outputs": [],
   "source": [
    "# calculate counts by bucket\n",
    "distance_hist = df_with_distance_buckets.groupBy(\n",
    "    \"distance_bucket\"\n",
    ").count()"
   ]
  },
  {
   "cell_type": "code",
   "execution_count": null,
   "metadata": {},
   "outputs": [],
   "source": [
    "# collect data to pandas dataframe and plot it\n",
    "df_pd = distance_hist.pandas_api(index_col=\"distance_bucket\")\n",
    "df_pd_sorted = df_pd.reindex([\"[0, 1)\", \"[1, 4)\", \"[4, 10)\", \"[10, inf)\", \"n/a\"])\n",
    "ax = df_pd_sorted.plot.bar(title=\"Count of rides by distance travelled in km\")\n",
    "for i, val in enumerate(df_pd_sorted[\"count\"].to_numpy()):\n",
    "    ax.add_annotation(x=i, y=val*1.005, text=f\"{val:,d}\")\n",
    "ax.show()"
   ]
  },
  {
   "cell_type": "code",
   "execution_count": null,
   "metadata": {},
   "outputs": [],
   "source": []
  }
 ],
 "metadata": {
  "kernelspec": {
   "display_name": "Python 3 (ipykernel)",
   "language": "python",
   "name": "python3"
  },
  "language_info": {
   "codemirror_mode": {
    "name": "ipython",
    "version": 3
   },
   "file_extension": ".py",
   "mimetype": "text/x-python",
   "name": "python",
   "nbconvert_exporter": "python",
   "pygments_lexer": "ipython3",
   "version": "3.11.4"
  }
 },
 "nbformat": 4,
 "nbformat_minor": 4
}
